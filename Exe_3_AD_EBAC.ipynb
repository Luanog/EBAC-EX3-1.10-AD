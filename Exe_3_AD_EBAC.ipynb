{
  "nbformat": 4,
  "nbformat_minor": 0,
  "metadata": {
    "colab": {
      "provenance": [],
      "authorship_tag": "ABX9TyMK/DrmXYZcQ95CZqxOimAy",
      "include_colab_link": true
    },
    "kernelspec": {
      "name": "python3",
      "display_name": "Python 3"
    },
    "language_info": {
      "name": "python"
    }
  },
  "cells": [
    {
      "cell_type": "markdown",
      "metadata": {
        "id": "view-in-github",
        "colab_type": "text"
      },
      "source": [
        "<a href=\"https://colab.research.google.com/github/Luanog/EBAC-EX3-1.10-AD/blob/main/Exe_3_AD_EBAC.ipynb\" target=\"_parent\"><img src=\"https://colab.research.google.com/assets/colab-badge.svg\" alt=\"Open In Colab\"/></a>"
      ]
    },
    {
      "cell_type": "markdown",
      "source": [
        "Slicing"
      ],
      "metadata": {
        "id": "SHyKKS5b3KjU"
      }
    },
    {
      "cell_type": "code",
      "source": [
        "cancao = 'Roda mundo, roda gigante, roda moinho, roda pião.'\n",
        "print ('0: ' + cancao[0])\n",
        "print ('11 ao 16 : ' + cancao[11:16])"
      ],
      "metadata": {
        "colab": {
          "base_uri": "https://localhost:8080/"
        },
        "id": "lJEdEhzb3gfk",
        "outputId": "19b5a6b1-caa6-40dc-bdc2-5821ce734bf6"
      },
      "execution_count": null,
      "outputs": [
        {
          "output_type": "stream",
          "name": "stdout",
          "text": [
            "0: R\n",
            "11 ao 16 :  roda\n"
          ]
        }
      ]
    },
    {
      "cell_type": "markdown",
      "source": [
        "Upper\n"
      ],
      "metadata": {
        "id": "KD_ghjE84LLL"
      }
    },
    {
      "cell_type": "code",
      "source": [
        "# maiusculo: string.upper()\n",
        "cancao = 'Roda mundo, roda gigante, roda moinho, roda pião.'\n",
        "print(cancao.upper())"
      ],
      "metadata": {
        "colab": {
          "base_uri": "https://localhost:8080/"
        },
        "id": "t-ljPA-XBOyU",
        "outputId": "2b7f18dc-32ab-4e28-a692-0a1d46ff8ca3"
      },
      "execution_count": null,
      "outputs": [
        {
          "output_type": "stream",
          "name": "stdout",
          "text": [
            "RODA MUNDO, RODA GIGANTE, RODA MOINHO, RODA PIÃO.\n"
          ]
        }
      ]
    },
    {
      "cell_type": "markdown",
      "source": [
        "Replace"
      ],
      "metadata": {
        "id": "MAWZF965CZsP"
      }
    },
    {
      "cell_type": "code",
      "source": [
        "# substituição: string.replace(antigo, novo)\n",
        "cancao = 'Roda mundo, roda gigante, roda moinho, roda pião.'\n",
        "print(cancao.replace('roda',  'Roda'))"
      ],
      "metadata": {
        "colab": {
          "base_uri": "https://localhost:8080/"
        },
        "id": "HnYXacpSDBNF",
        "outputId": "70bca7e4-6f07-4aa5-8767-fac287534e3f"
      },
      "execution_count": null,
      "outputs": [
        {
          "output_type": "stream",
          "name": "stdout",
          "text": [
            "Roda mundo, Roda gigante, Roda moinho, Roda pião.\n"
          ]
        }
      ]
    },
    {
      "cell_type": "markdown",
      "source": [
        "Extrair Selic e Ano"
      ],
      "metadata": {
        "id": "aYpKP58E2y96"
      }
    },
    {
      "cell_type": "code",
      "source": [
        "noticia = 'Selic vai a 2,75% e supera expectativas; é a primeira alta em 6 anos.'\n",
        "selic = noticia [12:18]\n",
        "ano = noticia[62:68]\n",
        "print (selic)\n",
        "print (ano)"
      ],
      "metadata": {
        "colab": {
          "base_uri": "https://localhost:8080/"
        },
        "id": "NLnS1MgO2-cJ",
        "outputId": "f843b1d9-35bd-4289-d553-8010b4c4497d"
      },
      "execution_count": null,
      "outputs": [
        {
          "output_type": "stream",
          "name": "stdout",
          "text": [
            "2,75% \n",
            "6 anos\n"
          ]
        }
      ]
    }
  ]
}